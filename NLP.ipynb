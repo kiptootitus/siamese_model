{
  "nbformat": 4,
  "nbformat_minor": 0,
  "metadata": {
    "colab": {
      "provenance": [],
      "gpuType": "T4",
      "authorship_tag": "ABX9TyP5TFrRGiYBCadttSr2FFa6",
      "include_colab_link": true
    },
    "kernelspec": {
      "name": "python3",
      "display_name": "Python 3"
    },
    "language_info": {
      "name": "python"
    },
    "accelerator": "GPU"
  },
  "cells": [
    {
      "cell_type": "markdown",
      "metadata": {
        "id": "view-in-github",
        "colab_type": "text"
      },
      "source": [
        "<a href=\"https://colab.research.google.com/github/kiptootitus/tensorflow/blob/main/NLP.ipynb\" target=\"_parent\"><img src=\"https://colab.research.google.com/assets/colab-badge.svg\" alt=\"Open In Colab\"/></a>"
      ]
    },
    {
      "cell_type": "markdown",
      "source": [
        "## Movie Review Datasets\n",
        "* We are going to use datasets from IMDB."
      ],
      "metadata": {
        "id": "oInZTOIlXqcP"
      }
    },
    {
      "cell_type": "code",
      "execution_count": 4,
      "metadata": {
        "id": "horIaPEgLRRx"
      },
      "outputs": [],
      "source": [
        "import tensorflow as tf\n",
        "import numpy as np\n",
        "import matplotlib.pyplot as plt\n",
        "import tensorflow_datasets as tfds\n",
        "from tensorflow import keras\n",
        "keras = tf.keras\n",
        "from keras.datasets import imdb\n",
        "from keras.preprocessing import sequence\n",
        "import os\n"
      ]
    },
    {
      "cell_type": "code",
      "source": [
        "VOC_SIZE = 88524\n",
        "\n",
        "BATCH_SIZE = 32\n",
        "\n",
        "(train_data, train_labels),(test_data, test_labels) = imdb.load_data(num_words =VOC_SIZE)"
      ],
      "metadata": {
        "id": "PTQt7BZmYSnU",
        "outputId": "522436f0-1c8d-4b7a-b4e1-32c11fe4e90d",
        "colab": {
          "base_uri": "https://localhost:8080/"
        }
      },
      "execution_count": 5,
      "outputs": [
        {
          "output_type": "stream",
          "name": "stdout",
          "text": [
            "Downloading data from https://storage.googleapis.com/tensorflow/tf-keras-datasets/imdb.npz\n",
            "\u001b[1m17464789/17464789\u001b[0m \u001b[32m━━━━━━━━━━━━━━━━━━━━\u001b[0m\u001b[37m\u001b[0m \u001b[1m2s\u001b[0m 0us/step\n"
          ]
        }
      ]
    },
    {
      "cell_type": "code",
      "source": [
        "len(train_data[1])"
      ],
      "metadata": {
        "id": "1Nq1l8HIZCPi",
        "outputId": "467c6caf-4863-4115-be72-fcf473b5b531",
        "colab": {
          "base_uri": "https://localhost:8080/"
        }
      },
      "execution_count": 8,
      "outputs": [
        {
          "output_type": "execute_result",
          "data": {
            "text/plain": [
              "189"
            ]
          },
          "metadata": {},
          "execution_count": 8
        }
      ]
    },
    {
      "cell_type": "markdown",
      "source": [
        "### More preprocessing"
      ],
      "metadata": {
        "id": "6qjA2JIUZR2B"
      }
    }
  ]
}