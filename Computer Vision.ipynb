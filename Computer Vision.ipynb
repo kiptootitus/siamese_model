{
 "cells": [
  {
   "cell_type": "markdown",
   "metadata": {},
   "source": [
    "  ### Image Data\n",
    "  * Here we will be dealing with images of `3 Dimensions`.\n",
    "  1. Color Channels.\n",
    "  2. Width\n",
    "  3. Height\n",
    "  * Color depth can range from 1 to 255."
   ]
  },
  {
   "cell_type": "code",
   "execution_count": null,
   "metadata": {},
   "outputs": [],
   "source": []
  }
 ],
 "metadata": {
  "kernelspec": {
   "display_name": "base",
   "language": "python",
   "name": "python3"
  },
  "language_info": {
   "name": "python",
   "version": "3.12.4"
  }
 },
 "nbformat": 4,
 "nbformat_minor": 2
}
